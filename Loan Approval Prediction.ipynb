{
 "cells": [
  {
   "cell_type": "markdown",
   "id": "a6c4c81d-d8ca-4ce4-bcb3-29a6cc9077af",
   "metadata": {},
   "source": [
    "# Loan Approval or Not Prediction"
   ]
  },
  {
   "cell_type": "code",
   "execution_count": 151,
   "id": "bff43f1c-6a82-4f3a-89ae-75b1df8cd01f",
   "metadata": {},
   "outputs": [],
   "source": [
    "import pandas as pd\n",
    "import numpy as np"
   ]
  },
  {
   "cell_type": "code",
   "execution_count": 152,
   "id": "243a8432-a634-423a-bc05-86b21e799c2e",
   "metadata": {},
   "outputs": [
    {
     "name": "stdout",
     "output_type": "stream",
     "text": [
      "Gender\n",
      "Male      489\n",
      "Female    112\n",
      "Name: count, dtype: int64\n",
      "Max data repeated on Gender Feature: Male\n",
      "(614, 13)\n"
     ]
    },
    {
     "data": {
      "text/html": [
       "<div>\n",
       "<style scoped>\n",
       "    .dataframe tbody tr th:only-of-type {\n",
       "        vertical-align: middle;\n",
       "    }\n",
       "\n",
       "    .dataframe tbody tr th {\n",
       "        vertical-align: top;\n",
       "    }\n",
       "\n",
       "    .dataframe thead th {\n",
       "        text-align: right;\n",
       "    }\n",
       "</style>\n",
       "<table border=\"1\" class=\"dataframe\">\n",
       "  <thead>\n",
       "    <tr style=\"text-align: right;\">\n",
       "      <th></th>\n",
       "      <th>Loan_ID</th>\n",
       "      <th>Gender</th>\n",
       "      <th>Married</th>\n",
       "      <th>Dependents</th>\n",
       "      <th>Education</th>\n",
       "      <th>Self_Employed</th>\n",
       "      <th>ApplicantIncome</th>\n",
       "      <th>CoapplicantIncome</th>\n",
       "      <th>LoanAmount</th>\n",
       "      <th>Loan_Amount_Term</th>\n",
       "      <th>Credit_History</th>\n",
       "      <th>Property_Area</th>\n",
       "      <th>Loan_Status</th>\n",
       "    </tr>\n",
       "  </thead>\n",
       "  <tbody>\n",
       "    <tr>\n",
       "      <th>0</th>\n",
       "      <td>LP001002</td>\n",
       "      <td>Male</td>\n",
       "      <td>No</td>\n",
       "      <td>0</td>\n",
       "      <td>Graduate</td>\n",
       "      <td>No</td>\n",
       "      <td>5849</td>\n",
       "      <td>0.0</td>\n",
       "      <td>NaN</td>\n",
       "      <td>360.0</td>\n",
       "      <td>1.0</td>\n",
       "      <td>Urban</td>\n",
       "      <td>Y</td>\n",
       "    </tr>\n",
       "    <tr>\n",
       "      <th>1</th>\n",
       "      <td>LP001003</td>\n",
       "      <td>Male</td>\n",
       "      <td>Yes</td>\n",
       "      <td>1</td>\n",
       "      <td>Graduate</td>\n",
       "      <td>No</td>\n",
       "      <td>4583</td>\n",
       "      <td>1508.0</td>\n",
       "      <td>128.0</td>\n",
       "      <td>360.0</td>\n",
       "      <td>1.0</td>\n",
       "      <td>Rural</td>\n",
       "      <td>N</td>\n",
       "    </tr>\n",
       "    <tr>\n",
       "      <th>2</th>\n",
       "      <td>LP001005</td>\n",
       "      <td>Male</td>\n",
       "      <td>Yes</td>\n",
       "      <td>0</td>\n",
       "      <td>Graduate</td>\n",
       "      <td>Yes</td>\n",
       "      <td>3000</td>\n",
       "      <td>0.0</td>\n",
       "      <td>66.0</td>\n",
       "      <td>360.0</td>\n",
       "      <td>1.0</td>\n",
       "      <td>Urban</td>\n",
       "      <td>Y</td>\n",
       "    </tr>\n",
       "    <tr>\n",
       "      <th>3</th>\n",
       "      <td>LP001006</td>\n",
       "      <td>Male</td>\n",
       "      <td>Yes</td>\n",
       "      <td>0</td>\n",
       "      <td>Not Graduate</td>\n",
       "      <td>No</td>\n",
       "      <td>2583</td>\n",
       "      <td>2358.0</td>\n",
       "      <td>120.0</td>\n",
       "      <td>360.0</td>\n",
       "      <td>1.0</td>\n",
       "      <td>Urban</td>\n",
       "      <td>Y</td>\n",
       "    </tr>\n",
       "    <tr>\n",
       "      <th>4</th>\n",
       "      <td>LP001008</td>\n",
       "      <td>Male</td>\n",
       "      <td>No</td>\n",
       "      <td>0</td>\n",
       "      <td>Graduate</td>\n",
       "      <td>No</td>\n",
       "      <td>6000</td>\n",
       "      <td>0.0</td>\n",
       "      <td>141.0</td>\n",
       "      <td>360.0</td>\n",
       "      <td>1.0</td>\n",
       "      <td>Urban</td>\n",
       "      <td>Y</td>\n",
       "    </tr>\n",
       "  </tbody>\n",
       "</table>\n",
       "</div>"
      ],
      "text/plain": [
       "    Loan_ID Gender Married Dependents     Education Self_Employed  \\\n",
       "0  LP001002   Male      No          0      Graduate            No   \n",
       "1  LP001003   Male     Yes          1      Graduate            No   \n",
       "2  LP001005   Male     Yes          0      Graduate           Yes   \n",
       "3  LP001006   Male     Yes          0  Not Graduate            No   \n",
       "4  LP001008   Male      No          0      Graduate            No   \n",
       "\n",
       "   ApplicantIncome  CoapplicantIncome  LoanAmount  Loan_Amount_Term  \\\n",
       "0             5849                0.0         NaN             360.0   \n",
       "1             4583             1508.0       128.0             360.0   \n",
       "2             3000                0.0        66.0             360.0   \n",
       "3             2583             2358.0       120.0             360.0   \n",
       "4             6000                0.0       141.0             360.0   \n",
       "\n",
       "   Credit_History Property_Area Loan_Status  \n",
       "0             1.0         Urban           Y  \n",
       "1             1.0         Rural           N  \n",
       "2             1.0         Urban           Y  \n",
       "3             1.0         Urban           Y  \n",
       "4             1.0         Urban           Y  "
      ]
     },
     "execution_count": 152,
     "metadata": {},
     "output_type": "execute_result"
    }
   ],
   "source": [
    "data = pd.read_csv('dataset/train_set.csv')\n",
    "print(data['Gender'].value_counts())\n",
    "print(\"Max data repeated on Gender Feature: {}\".format(data['Gender'].value_counts().idxmax()))\n",
    "print(data.shape)\n",
    "data.head()"
   ]
  },
  {
   "cell_type": "code",
   "execution_count": 153,
   "id": "b24bc0a2-0f58-4310-9bd2-82fdd1b5106b",
   "metadata": {},
   "outputs": [
    {
     "name": "stdout",
     "output_type": "stream",
     "text": [
      "Null Data on Overall DataSet: \n",
      "Loan_ID               0\n",
      "Gender               13\n",
      "Married               3\n",
      "Dependents           15\n",
      "Education             0\n",
      "Self_Employed        32\n",
      "ApplicantIncome       0\n",
      "CoapplicantIncome     0\n",
      "LoanAmount           22\n",
      "Loan_Amount_Term     14\n",
      "Credit_History       50\n",
      "Property_Area         0\n",
      "Loan_Status           0\n",
      "dtype: int64\n",
      "LoanAmount\n",
      "120.0    20\n",
      "110.0    17\n",
      "100.0    15\n",
      "187.0    12\n",
      "160.0    12\n",
      "         ..\n",
      "292.0     1\n",
      "142.0     1\n",
      "350.0     1\n",
      "496.0     1\n",
      "253.0     1\n",
      "Name: count, Length: 203, dtype: int64\n"
     ]
    }
   ],
   "source": [
    "print(\"Null Data on Overall DataSet: \\n{}\".format(data.isnull().sum()))\n",
    "print(data['LoanAmount'].value_counts())"
   ]
  },
  {
   "cell_type": "code",
   "execution_count": 154,
   "id": "2b69695c-90d2-47db-bfb7-e6747cefb8cd",
   "metadata": {},
   "outputs": [
    {
     "data": {
      "text/plain": [
       "Loan_ID               0\n",
       "Gender               13\n",
       "Married               3\n",
       "Dependents           15\n",
       "Education             0\n",
       "Self_Employed        32\n",
       "ApplicantIncome       0\n",
       "CoapplicantIncome     0\n",
       "LoanAmount           22\n",
       "Loan_Amount_Term     14\n",
       "Credit_History       50\n",
       "Property_Area         0\n",
       "Loan_Status           0\n",
       "dtype: int64"
      ]
     },
     "execution_count": 154,
     "metadata": {},
     "output_type": "execute_result"
    }
   ],
   "source": [
    "traind=data\n",
    "# traind['Gender'].fillna(traind['Gender'].value_counts().idxmax(), inplace=True)\n",
    "\n",
    "# traind['Married'].fillna(traind['Married'].value_counts().idxmax(), inplace=True)\n",
    "# traind['Married'].isnull().sum() #checking Column based null values\n",
    "\n",
    "# traind['Dependents'].fillna(traind['Dependents'].value_counts().idxmax(), inplace=True)\n",
    "# traind['LoanAmount'].fillna(traind['LoanAmount'].mean(skipna=True), inplace=True)\n",
    "# traind['Loan_Amount_Term'].fillna(traind['Loan_Amount_Term'].value_counts().idxmax(), inplace=True)\n",
    "# traind['Credit_History'].fillna(traind['Credit_History'].value_counts().idxmax(), inplace=True)\n",
    "\n",
    "traind.isnull().sum() # overall dataset Null Values checking"
   ]
  },
  {
   "cell_type": "code",
   "execution_count": 155,
   "id": "d56953f0-895c-44db-8dcc-9c4364a4905e",
   "metadata": {},
   "outputs": [
    {
     "data": {
      "text/plain": [
       "Loan_ID              0\n",
       "Gender               0\n",
       "Married              0\n",
       "Dependents           0\n",
       "Education            0\n",
       "Self_Employed        0\n",
       "ApplicantIncome      0\n",
       "CoapplicantIncome    0\n",
       "LoanAmount           0\n",
       "Loan_Amount_Term     0\n",
       "Credit_History       0\n",
       "Property_Area        0\n",
       "Loan_Status          0\n",
       "dtype: int64"
      ]
     },
     "execution_count": 155,
     "metadata": {},
     "output_type": "execute_result"
    }
   ],
   "source": [
    "for i in traind.keys():\n",
    "    if i != \"LoanAmount\":\n",
    "        traind[i].fillna(traind[i].value_counts().idxmax(), inplace=True)\n",
    "traind[\"LoanAmount\"].fillna(traind[\"LoanAmount\"].mean(skipna=True), inplace=True)\n",
    "traind.isnull().sum() # overall dataset Null Values checking"
   ]
  },
  {
   "cell_type": "code",
   "execution_count": 156,
   "id": "7873c6b1-94fa-4275-93ea-1825964fc678",
   "metadata": {},
   "outputs": [
    {
     "name": "stdout",
     "output_type": "stream",
     "text": [
      "      Loan_ID  Gender Married Dependents     Education Self_Employed  \\\n",
      "0    LP001002    Male      No          0      Graduate            No   \n",
      "1    LP001003    Male     Yes          1      Graduate            No   \n",
      "2    LP001005    Male     Yes          0      Graduate           Yes   \n",
      "3    LP001006    Male     Yes          0  Not Graduate            No   \n",
      "4    LP001008    Male      No          0      Graduate            No   \n",
      "..        ...     ...     ...        ...           ...           ...   \n",
      "609  LP002978  Female      No          0      Graduate            No   \n",
      "610  LP002979    Male     Yes         3+      Graduate            No   \n",
      "611  LP002983    Male     Yes          1      Graduate            No   \n",
      "612  LP002984    Male     Yes          2      Graduate            No   \n",
      "613  LP002990  Female      No          0      Graduate           Yes   \n",
      "\n",
      "     ApplicantIncome  CoapplicantIncome  LoanAmount  Loan_Amount_Term  \\\n",
      "0               5849                0.0  146.412162             360.0   \n",
      "1               4583             1508.0  128.000000             360.0   \n",
      "2               3000                0.0   66.000000             360.0   \n",
      "3               2583             2358.0  120.000000             360.0   \n",
      "4               6000                0.0  141.000000             360.0   \n",
      "..               ...                ...         ...               ...   \n",
      "609             2900                0.0   71.000000             360.0   \n",
      "610             4106                0.0   40.000000             180.0   \n",
      "611             8072              240.0  253.000000             360.0   \n",
      "612             7583                0.0  187.000000             360.0   \n",
      "613             4583                0.0  133.000000             360.0   \n",
      "\n",
      "     Credit_History Property_Area Loan_Status  \n",
      "0               1.0         Urban           Y  \n",
      "1               1.0         Rural           N  \n",
      "2               1.0         Urban           Y  \n",
      "3               1.0         Urban           Y  \n",
      "4               1.0         Urban           Y  \n",
      "..              ...           ...         ...  \n",
      "609             1.0         Rural           Y  \n",
      "610             1.0         Rural           Y  \n",
      "611             1.0         Urban           Y  \n",
      "612             1.0         Urban           Y  \n",
      "613             0.0     Semiurban           N  \n",
      "\n",
      "[614 rows x 13 columns]\n",
      "      Loan_ID  Gender  Married  Dependents  Education  Self_Employed  \\\n",
      "0    LP001002       1        0           0          1              0   \n",
      "1    LP001003       1        1           1          1              0   \n",
      "2    LP001005       1        1           0          1              1   \n",
      "3    LP001006       1        1           0          0              0   \n",
      "4    LP001008       1        0           0          1              0   \n",
      "..        ...     ...      ...         ...        ...            ...   \n",
      "609  LP002978       0        0           0          1              0   \n",
      "610  LP002979       1        1           3          1              0   \n",
      "611  LP002983       1        1           1          1              0   \n",
      "612  LP002984       1        1           2          1              0   \n",
      "613  LP002990       0        0           0          1              1   \n",
      "\n",
      "     ApplicantIncome  CoapplicantIncome  LoanAmount  Loan_Amount_Term  \\\n",
      "0               5849                0.0  146.412162             360.0   \n",
      "1               4583             1508.0  128.000000             360.0   \n",
      "2               3000                0.0   66.000000             360.0   \n",
      "3               2583             2358.0  120.000000             360.0   \n",
      "4               6000                0.0  141.000000             360.0   \n",
      "..               ...                ...         ...               ...   \n",
      "609             2900                0.0   71.000000             360.0   \n",
      "610             4106                0.0   40.000000             180.0   \n",
      "611             8072              240.0  253.000000             360.0   \n",
      "612             7583                0.0  187.000000             360.0   \n",
      "613             4583                0.0  133.000000             360.0   \n",
      "\n",
      "     Credit_History  Property_Area  Loan_Status  \n",
      "0               1.0              1            1  \n",
      "1               1.0              2            0  \n",
      "2               1.0              1            1  \n",
      "3               1.0              1            1  \n",
      "4               1.0              1            1  \n",
      "..              ...            ...          ...  \n",
      "609             1.0              2            1  \n",
      "610             1.0              2            1  \n",
      "611             1.0              1            1  \n",
      "612             1.0              1            1  \n",
      "613             0.0              0            0  \n",
      "\n",
      "[614 rows x 13 columns]\n"
     ]
    }
   ],
   "source": [
    "traind.shape\n",
    "traind['Gender'].unique()\n",
    "print(traind)\n",
    "traind['Gender']=traind['Gender'].replace({\"Male\":1,\"Female\":0})\n",
    "traind['Married']=traind['Married'].replace({\"Yes\":1,\"No\":0})\n",
    "traind['Dependents']=traind['Dependents'].replace({'0':0,'1':1,'2':2,'3+':3})\n",
    "traind['Education']=traind['Education'].replace({\"Graduate\":1,\"Not Graduate\":0})\n",
    "traind['Self_Employed']=traind['Self_Employed'].replace({\"Yes\":1,\"No\":0})\n",
    "traind['Property_Area']=traind['Property_Area'].replace({'Semiurban' : 0, 'Urban' : 1,'Rural' : 2})\n",
    "traind['Loan_Status']=traind['Loan_Status'].replace({\"Y\":1,\"N\":0})\n",
    "\n",
    "print(traind)"
   ]
  },
  {
   "cell_type": "code",
   "execution_count": 157,
   "id": "04b5ad78-3525-421c-93d7-9ec526633194",
   "metadata": {},
   "outputs": [],
   "source": [
    "# traind.to_csv('train_set_dp.csv',index=False)"
   ]
  },
  {
   "cell_type": "markdown",
   "id": "7cbda470-51d4-4b4f-a46e-fb5a5bddb863",
   "metadata": {},
   "source": [
    "# Test Set Data Preprocessing"
   ]
  },
  {
   "cell_type": "code",
   "execution_count": 158,
   "id": "7c69236d-8e76-40b8-a575-2b3a5b646b7d",
   "metadata": {},
   "outputs": [
    {
     "name": "stdout",
     "output_type": "stream",
     "text": [
      "Loan_ID               0\n",
      "Gender               11\n",
      "Married               0\n",
      "Dependents           10\n",
      "Education             0\n",
      "Self_Employed        23\n",
      "ApplicantIncome       0\n",
      "CoapplicantIncome     0\n",
      "LoanAmount            5\n",
      "Loan_Amount_Term      6\n",
      "Credit_History       29\n",
      "Property_Area         0\n",
      "dtype: int64\n",
      "Loan_ID              0\n",
      "Gender               0\n",
      "Married              0\n",
      "Dependents           0\n",
      "Education            0\n",
      "Self_Employed        0\n",
      "ApplicantIncome      0\n",
      "CoapplicantIncome    0\n",
      "LoanAmount           0\n",
      "Loan_Amount_Term     0\n",
      "Credit_History       0\n",
      "Property_Area        0\n",
      "dtype: int64\n"
     ]
    }
   ],
   "source": [
    "import warnings\n",
    "\n",
    "test_set = pd.read_csv('dataset/test_set.csv')\n",
    "\n",
    "\n",
    "\n",
    "print(test_set.isnull().sum())\n",
    "\n",
    "warnings.filterwarnings(\"ignore\",category=FutureWarning)\n",
    "warnings.filterwarnings(\"ignore\",category=DeprecationWarning)\n",
    "\n",
    "for i in test_set.keys():\n",
    "    if i not in [\"LoanAmount\",\"Loan_ID\"]:\n",
    "        test_set[i].fillna(test_set[i].value_counts().idxmax(), inplace=True)\n",
    "test_set[\"LoanAmount\"].fillna(test_set[\"LoanAmount\"].mean(skipna=True), inplace=True)\n",
    "print(test_set.isnull().sum())\n",
    "\n",
    "warnings.filterwarnings(\"ignore\",category=FutureWarning)\n",
    "test_set['Gender']=test_set['Gender'].replace({\"Male\":1,\"Female\":0})\n",
    "test_set['Married']=test_set['Married'].replace({\"Yes\":1,\"No\":0})\n",
    "test_set['Dependents']=test_set['Dependents'].replace({'0':0,'1':1,'2':2,'3+':3})\n",
    "test_set['Education']=test_set['Education'].replace({\"Graduate\":1,\"Not Graduate\":0})\n",
    "test_set['Self_Employed']=test_set['Self_Employed'].replace({\"Yes\":1,\"No\":0})\n",
    "test_set['Property_Area']=test_set['Property_Area'].replace({'Semiurban' : 0, 'Urban' : 1,'Rural' : 2})\n",
    "\n",
    "# test_set.to_csv(\"test_set_dp.csv\",index=False)"
   ]
  },
  {
   "cell_type": "code",
   "execution_count": 168,
   "id": "5e186cd7-bfba-4896-9875-fcb751df8aef",
   "metadata": {},
   "outputs": [
    {
     "name": "stdout",
     "output_type": "stream",
     "text": [
      "(460, 11)\n",
      "(154, 11)\n"
     ]
    }
   ],
   "source": [
    "from sklearn.tree import DecisionTreeClassifier\n",
    "from sklearn.linear_model import LogisticRegression\n",
    "from sklearn.ensemble import RandomForestClassifier\n",
    "from sklearn.neighbors import KNeighborsClassifier\n",
    "from sklearn.metrics import accuracy_score\n",
    "from sklearn.model_selection import cross_val_score\n",
    "from sklearn.model_selection import train_test_split\n",
    "from sklearn.preprocessing import StandardScaler\n",
    "import matplotlib.pyplot as py\n",
    "import seaborn as sns\n",
    "import warnings\n",
    "x,y=traind.iloc[:,1:12],traind.iloc[:,12]\n",
    "\n",
    "x_train,x_test,y_train,y_test=train_test_split(x,y,test_size=0.25,random_state=10)\n",
    "\n",
    "print(x_train.shape)\n",
    "print(x_test.shape)\n",
    "\n",
    "model_names=[\"Logistic\",\"DecisionTree\",\"Random Forest\"]\n",
    "accuracies=[]\n",
    "\n",
    "# ss=StandardScaler()\n",
    "# x_train_scaled = ss.fit_transform(x_train)\n",
    "# x_test_scaled = ss.fit_transform(x_test)\n",
    "\n",
    "# py.scatter(x_train,x_train_scaled,marker='o')\n",
    "# # y_pred = lg.predict([[0,0,0,1,1,4853,0,133,360,0,0]])\n",
    "# # print(\"Yes\" if y_pred else \"No\")\n",
    "# # y_pred = lg.predict([[1,1,2,1,0,7583,0,187,360,1,1]])\n",
    "# # print(\"Yes\" if y_pred else \"No\")\n",
    "# # y_pred = lg.predict([[0,1,1,1,0,12000,0,496,360,1,0]])\n",
    "# # print(\"Yes\" if y_pred else \"No\")\n",
    "\n",
    "# print(y_train)\n",
    "# x_test.shape\n",
    "# # x_test.isnull().sum()\n",
    "# # x_test\n"
   ]
  },
  {
   "cell_type": "code",
   "execution_count": 169,
   "id": "d19cb20f-386f-4e93-8539-ea998bad73df",
   "metadata": {},
   "outputs": [
    {
     "name": "stdout",
     "output_type": "stream",
     "text": [
      "81.16883116883116\n"
     ]
    },
    {
     "name": "stderr",
     "output_type": "stream",
     "text": [
      "C:\\Users\\Moham\\AppData\\Roaming\\Python\\Python313\\site-packages\\sklearn\\linear_model\\_logistic.py:465: ConvergenceWarning: lbfgs failed to converge (status=1):\n",
      "STOP: TOTAL NO. OF ITERATIONS REACHED LIMIT.\n",
      "\n",
      "Increase the number of iterations (max_iter) or scale the data as shown in:\n",
      "    https://scikit-learn.org/stable/modules/preprocessing.html\n",
      "Please also refer to the documentation for alternative solver options:\n",
      "    https://scikit-learn.org/stable/modules/linear_model.html#logistic-regression\n",
      "  n_iter_i = _check_optimize_result(\n"
     ]
    }
   ],
   "source": [
    "lg = LogisticRegression()\n",
    "lg.fit(x_train,y_train)\n",
    "y_pred=lg.predict(x_test)\n",
    "data=pd.DataFrame(y_pred,columns=[\"output\"])\n",
    "print(accuracy_score(y_test,y_pred)*100)\n",
    "\n",
    "\n",
    "accuracies.append(accuracy_score(y_test,y_pred)*100)\n",
    "\n",
    "# print(accuracy_score(y_train[:data.shape[0]],data)*100)\n",
    "\n",
    "# y_pred = lg.predict([[0,0,0,1,1,4853,0,133,360,0,0]])\n",
    "# print(\"Yes\" if y_pred else \"No\")\n",
    "# y_pred = lg.predict([[1,1,2,1,0,7583,0,187,360,1,1]])\n",
    "# print(\"Yes\" if y_pred else \"No\")\n",
    "# y_pred = lg.predict([[0,1,1,1,0,12000,0,496,360,1,0]])\n",
    "# print(\"Yes\" if y_pred else \"No\")\n",
    "\n",
    "# print(cross_val_score(lg,x_train,y_train,cv=10).mean()*100)\n",
    "# sns.countplot(data=data,x=\"output\")\n",
    "# py.show()"
   ]
  },
  {
   "cell_type": "code",
   "execution_count": 170,
   "id": "efe84166-b8fc-4273-b9f2-e909113dd5f3",
   "metadata": {},
   "outputs": [
    {
     "name": "stdout",
     "output_type": "stream",
     "text": [
      "69.48051948051948\n"
     ]
    },
    {
     "data": {
      "image/png": "[encoded data removed]",
      "text/plain": [
       "<Figure size 640x480 with 1 Axes>"
      ]
     },
     "metadata": {},
     "output_type": "display_data"
    }
   ],
   "source": [
    "dt = DecisionTreeClassifier()\n",
    "dt.fit(x_train,y_train)\n",
    "y_pred=dt.predict(x_test)\n",
    "print(accuracy_score(y_test,y_pred)*100)\n",
    "accuracies.append(accuracy_score(y_test,y_pred)*100)\n",
    "# y_pred = dt.predict([[0,0,0,1,1,4853,0,133,360,0,0]])\n",
    "# print(\"Yes\" if y_pred else \"No\")\n",
    "# y_pred = dt.predict([[1,1,2,1,0,7583,0,187,360,1,1]])\n",
    "# print(\"Yes\" if y_pred else \"No\")\n",
    "# y_pred = dt.predict([[0,1,1,1,0,12000,0,496,360,1,0]])\n",
    "# print(\"Yes\" if y_pred else \"No\")\n",
    "\n",
    "# print(cross_val_score(dt,x_train,y_train,cv=10).mean()*100)\n",
    "\n",
    "sns.countplot(data=data,x=\"output\")\n",
    "py.show()"
   ]
  },
  {
   "cell_type": "code",
   "execution_count": 171,
   "id": "97d6e8f7-98b9-4c49-940a-7d339a075b7e",
   "metadata": {},
   "outputs": [
    {
     "name": "stdout",
     "output_type": "stream",
     "text": [
      "output\n",
      "1    132\n",
      "0     22\n",
      "Name: count, dtype: int64\n",
      "285    1\n",
      "323    1\n",
      "482    1\n",
      "173    1\n",
      "518    0\n",
      "      ..\n",
      "273    1\n",
      "311    1\n",
      "107    0\n",
      "121    1\n",
      "70     1\n",
      "Name: Loan_Status, Length: 154, dtype: int64\n"
     ]
    }
   ],
   "source": [
    "from sklearn.model_selection import GridSearchCV\n",
    "rf = RandomForestClassifier()\n",
    "rf.fit(x_train,y_train)\n",
    "y_pred=rf.predict(x_test)\n",
    "data=pd.DataFrame(y_pred,columns=[\"output\"])\n",
    "print(data['output'].value_counts())\n",
    "# print(accuracy_score(y_train[:data.shape[0]],data)*100)\n",
    "accuracies.append(accuracy_score(y_test,y_pred)*100)\n",
    "\n",
    "\n",
    "# y_pred = grid_search.predict([[0,0,0,1,1,4853,0,133,360,0,0]])\n",
    "# print(\"Yes\" if y_pred else \"No\")\n",
    "# y_pred = grid_search.predict([[1,1,2,1,0,7583,0,187,360,1,1]])\n",
    "# print(\"Yes\" if y_pred else \"No\")\n",
    "# y_pred = grid_search.predict([[0,1,1,1,0,12000,0,496,360,1,0]])\n",
    "# print(\"Yes\" if y_pred else \"No\")\n",
    "\n",
    "print(y_test)\n",
    "# sns.countplot(data=data,x=\"output\")\n",
    "# py.show()"
   ]
  },
  {
   "cell_type": "code",
   "execution_count": 172,
   "id": "0614f65f-9510-4443-b95e-072f4afdc04e",
   "metadata": {},
   "outputs": [
    {
     "name": "stdout",
     "output_type": "stream",
     "text": [
      "78.57142857142857\n",
      "Loan_Status\n",
      "1              113\n",
      "0               41\n",
      "Name: count, dtype: int64\n"
     ]
    }
   ],
   "source": [
    "print(accuracy_score(y_test,y_pred)*100)\n",
    "print(pd.DataFrame(y_test).value_counts())"
   ]
  },
  {
   "cell_type": "code",
   "execution_count": 173,
   "id": "6fcfa1f1-2930-4302-9153-767939653b8c",
   "metadata": {},
   "outputs": [
    {
     "name": "stdout",
     "output_type": "stream",
     "text": [
      "0\n",
      "1    307\n",
      "0     62\n",
      "Name: count, dtype: int64\n",
      "0\n",
      "1    234\n",
      "0    135\n",
      "Name: count, dtype: int64\n",
      "0\n",
      "1    289\n",
      "0     80\n",
      "Name: count, dtype: int64\n"
     ]
    }
   ],
   "source": [
    "new_set=test_set.iloc[:,1:12]\n",
    "new_set.shape\n",
    "y_pred=lg.predict(new_set)\n",
    "print(pd.DataFrame(y_pred).value_counts())\n",
    "y_pred=dt.predict(new_set)\n",
    "print(pd.DataFrame(y_pred).value_counts())\n",
    "y_pred=rf.predict(new_set)\n",
    "print(pd.DataFrame(y_pred).value_counts())"
   ]
  },
  {
   "cell_type": "code",
   "execution_count": 174,
   "id": "1948dfab-a46a-4860-8184-f512938336f1",
   "metadata": {},
   "outputs": [
    {
     "data": {
      "image/png": "[encoded data removed]",
      "text/plain": [
       "<Figure size 640x480 with 1 Axes>"
      ]
     },
     "metadata": {},
     "output_type": "display_data"
    },
    {
     "data": {
      "text/html": [
       "<div>\n",
       "<style scoped>\n",
       "    .dataframe tbody tr th:only-of-type {\n",
       "        vertical-align: middle;\n",
       "    }\n",
       "\n",
       "    .dataframe tbody tr th {\n",
       "        vertical-align: top;\n",
       "    }\n",
       "\n",
       "    .dataframe thead th {\n",
       "        text-align: right;\n",
       "    }\n",
       "</style>\n",
       "<table border=\"1\" class=\"dataframe\">\n",
       "  <thead>\n",
       "    <tr style=\"text-align: right;\">\n",
       "      <th></th>\n",
       "      <th>0</th>\n",
       "    </tr>\n",
       "  </thead>\n",
       "  <tbody>\n",
       "    <tr>\n",
       "      <th>Logistic</th>\n",
       "      <td>81.168831</td>\n",
       "    </tr>\n",
       "    <tr>\n",
       "      <th>DecisionTree</th>\n",
       "      <td>69.480519</td>\n",
       "    </tr>\n",
       "    <tr>\n",
       "      <th>Random Forest</th>\n",
       "      <td>78.571429</td>\n",
       "    </tr>\n",
       "  </tbody>\n",
       "</table>\n",
       "</div>"
      ],
      "text/plain": [
       "                       0\n",
       "Logistic       81.168831\n",
       "DecisionTree   69.480519\n",
       "Random Forest  78.571429"
      ]
     },
     "execution_count": 174,
     "metadata": {},
     "output_type": "execute_result"
    }
   ],
   "source": [
    "py.grid(axis='y',linestyle='-',alpha=0.7)\n",
    "# py.grid(axis='x',linestyle='--',alpha=0.7)\n",
    "py.bar(model_names,accuracies,color=['black','yellow','red'])\n",
    "py.show()\n",
    "scores = pd.DataFrame(accuracies,index=model_names)\n",
    "scores"
   ]
  },
  {
   "cell_type": "code",
   "execution_count": null,
   "id": "0a44600d-d6ba-43d2-acc1-694f099d3d2d",
   "metadata": {},
   "outputs": [],
   "source": []
  },
  {
   "cell_type": "code",
   "execution_count": null,
   "id": "572d42dc-8f0d-4a6a-bb4f-82a3f310a6d8",
   "metadata": {},
   "outputs": [],
   "source": []
  },
  {
   "cell_type": "code",
   "execution_count": null,
   "id": "b2980fba-879e-4b33-b1c7-61e882721a0e",
   "metadata": {},
   "outputs": [],
   "source": []
  }
 ],
 "metadata": {
  "kernelspec": {
   "display_name": "Python 3 (ipykernel)",
   "language": "python",
   "name": "python3"
  },
  "language_info": {
   "codemirror_mode": {
    "name": "ipython",
    "version": 3
   },
   "file_extension": ".py",
   "mimetype": "text/x-python",
   "name": "python",
   "nbconvert_exporter": "python",
   "pygments_lexer": "ipython3",
   "version": "3.13.1"
  }
 },
 "nbformat": 4,
 "nbformat_minor": 5
}
